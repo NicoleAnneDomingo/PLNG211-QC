{
  "nbformat": 4,
  "nbformat_minor": 0,
  "metadata": {
    "colab": {
      "provenance": [],
      "authorship_tag": "ABX9TyMFaAGoJ85mntigc0TA5zkS",
      "include_colab_link": true
    },
    "kernelspec": {
      "name": "python3",
      "display_name": "Python 3"
    },
    "language_info": {
      "name": "python"
    }
  },
  "cells": [
    {
      "cell_type": "markdown",
      "metadata": {
        "id": "view-in-github",
        "colab_type": "text"
      },
      "source": [
        "<a href=\"https://colab.research.google.com/github/NicoleAnneDomingo/PLNG211-QC/blob/main/Domingo%2C_Nicole_Anne_Fundamentals_of_Python.ipynb\" target=\"_parent\"><img src=\"https://colab.research.google.com/assets/colab-badge.svg\" alt=\"Open In Colab\"/></a>"
      ]
    },
    {
      "cell_type": "markdown",
      "source": [
        "***Python*** ***Variable*** "
      ],
      "metadata": {
        "id": "3p_Dn-82wO1T"
      }
    },
    {
      "cell_type": "code",
      "source": [
        "x = 1\n",
        "a,b = 0,-1\n",
        "a = 9\n",
        "c = \"Sally\"\n",
        "c = \"Danny\"\n",
        "print(a)\n",
        "print(c)\n",
        "c = \"Maria\"\n",
        "print(c)\n"
      ],
      "metadata": {
        "id": "BTe1ry7RwRBp",
        "colab": {
          "base_uri": "https://localhost:8080/"
        },
        "outputId": "b4d28ef1-c84b-4fa6-fe47-15bdf0bbfdfa"
      },
      "execution_count": 1,
      "outputs": [
        {
          "output_type": "stream",
          "name": "stdout",
          "text": [
            "9\n",
            "Danny\n",
            "Maria\n"
          ]
        }
      ]
    },
    {
      "cell_type": "markdown",
      "source": [
        "***Casting***"
      ],
      "metadata": {
        "id": "sAZDMXP-F1Sa"
      }
    },
    {
      "cell_type": "code",
      "source": [
        "d = int(4)\n",
        "print(d)\n",
        "e = float(4)\n",
        "print(e)"
      ],
      "metadata": {
        "colab": {
          "base_uri": "https://localhost:8080/"
        },
        "id": "lS96qUe4F3Qy",
        "outputId": "020fb8fc-a774-444a-dbc0-45fecec558c7"
      },
      "execution_count": 2,
      "outputs": [
        {
          "output_type": "stream",
          "name": "stdout",
          "text": [
            "4\n",
            "4.0\n"
          ]
        }
      ]
    },
    {
      "cell_type": "markdown",
      "source": [
        "***Type () function***"
      ],
      "metadata": {
        "id": "cfjmH834GTuh"
      }
    },
    {
      "cell_type": "code",
      "source": [
        "print(type(d))\n",
        "print(type(e))"
      ],
      "metadata": {
        "colab": {
          "base_uri": "https://localhost:8080/"
        },
        "id": "mY7ihlHbGYQS",
        "outputId": "9f9d3a1a-64e9-4017-e76e-c06dd72df071"
      },
      "execution_count": 3,
      "outputs": [
        {
          "output_type": "stream",
          "name": "stdout",
          "text": [
            "<class 'int'>\n",
            "<class 'float'>\n"
          ]
        }
      ]
    },
    {
      "cell_type": "markdown",
      "source": [
        "***Single Quote or Double Quote***"
      ],
      "metadata": {
        "id": "usw6nYF3Gm87"
      }
    },
    {
      "cell_type": "code",
      "source": [
        "f = \"Maria\"\n",
        "print(f)\n",
        "g = \"Ana\"\n",
        "print(g)"
      ],
      "metadata": {
        "colab": {
          "base_uri": "https://localhost:8080/"
        },
        "id": "UzI2ETK8GsU6",
        "outputId": "a6d16436-ba9d-4491-8720-e8b4f4c3579b"
      },
      "execution_count": 4,
      "outputs": [
        {
          "output_type": "stream",
          "name": "stdout",
          "text": [
            "Maria\n",
            "Ana\n"
          ]
        }
      ]
    },
    {
      "cell_type": "markdown",
      "source": [
        "***Multiple Variables***"
      ],
      "metadata": {
        "id": "W83eYrsxGzGL"
      }
    },
    {
      "cell_type": "code",
      "source": [
        "x,y,z = 4,5,6\n",
        "print(x)\n",
        "print(y)\n",
        "print(z)"
      ],
      "metadata": {
        "colab": {
          "base_uri": "https://localhost:8080/"
        },
        "id": "IU-nXA6TG4ZK",
        "outputId": "65fbb414-e862-4360-962b-f205281cb611"
      },
      "execution_count": 5,
      "outputs": [
        {
          "output_type": "stream",
          "name": "stdout",
          "text": [
            "4\n",
            "5\n",
            "6\n"
          ]
        }
      ]
    },
    {
      "cell_type": "markdown",
      "source": [
        "***Single Value to Multiple Variables***"
      ],
      "metadata": {
        "id": "fZP2bXHNHBoa"
      }
    },
    {
      "cell_type": "code",
      "source": [
        "x=y=z = \"Lilo\"\n",
        "print(x)\n",
        "print(y)\n",
        "print(z)\n"
      ],
      "metadata": {
        "colab": {
          "base_uri": "https://localhost:8080/"
        },
        "id": "nOsGNdn-IAOL",
        "outputId": "9928d894-aff6-4f49-c5ed-bbcf8f3b68a4"
      },
      "execution_count": 6,
      "outputs": [
        {
          "output_type": "stream",
          "name": "stdout",
          "text": [
            "Lilo\n",
            "Lilo\n",
            "Lilo\n"
          ]
        }
      ]
    },
    {
      "cell_type": "markdown",
      "source": [
        "***Output Variable using Print and +***"
      ],
      "metadata": {
        "id": "M32mqtyNIUt5"
      }
    },
    {
      "cell_type": "code",
      "source": [
        "s = \"Python is \"\n",
        "t = \"enjoying\"\n",
        "print(\"Python is \"+ t)\n",
        "\n",
        "print(s + t)"
      ],
      "metadata": {
        "colab": {
          "base_uri": "https://localhost:8080/"
        },
        "id": "nH3TQi2aIYrQ",
        "outputId": "a7c5173f-9877-4d92-c3bf-f3edf6b43e43"
      },
      "execution_count": 7,
      "outputs": [
        {
          "output_type": "stream",
          "name": "stdout",
          "text": [
            "Python is enjoying\n",
            "Python is enjoying\n"
          ]
        }
      ]
    },
    {
      "cell_type": "markdown",
      "source": [
        "***Arithmetics***"
      ],
      "metadata": {
        "id": "dD6le0PBJBPM"
      }
    },
    {
      "cell_type": "code",
      "source": [
        "x = 1\n",
        "y = 2\n",
        "sum = x + y\n",
        "print(x)\n",
        "print(y)\n",
        "print(sum)\n",
        "\n",
        "#modulo division\n",
        "l = 4%2\n",
        "print(\"4%2= \", l)\n",
        "\n",
        "#floor division\n",
        "k = 3//2\n",
        "print(\"3//2= \",k)"
      ],
      "metadata": {
        "colab": {
          "base_uri": "https://localhost:8080/"
        },
        "id": "2i1RC4xsJI3M",
        "outputId": "2042281a-c9e0-4774-f58b-b64cf93879e6"
      },
      "execution_count": 9,
      "outputs": [
        {
          "output_type": "stream",
          "name": "stdout",
          "text": [
            "1\n",
            "2\n",
            "3\n",
            "4%2=  0\n",
            "3//2=  1\n"
          ]
        }
      ]
    },
    {
      "cell_type": "markdown",
      "source": [
        "***Assignment Operator***"
      ],
      "metadata": {
        "id": "va6AQ2PHJ3HV"
      }
    },
    {
      "cell_type": "code",
      "source": [
        "x = 1\n",
        "x+= 1\n",
        "print(x)\n"
      ],
      "metadata": {
        "colab": {
          "base_uri": "https://localhost:8080/"
        },
        "id": "RGhqshcAJ7Kj",
        "outputId": "16f2ea2b-610a-455a-8589-4bbd93bcbf27"
      },
      "execution_count": 13,
      "outputs": [
        {
          "output_type": "stream",
          "name": "stdout",
          "text": [
            "2\n"
          ]
        }
      ]
    }
  ]
}