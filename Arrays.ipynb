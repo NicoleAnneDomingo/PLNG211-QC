{
  "nbformat": 4,
  "nbformat_minor": 0,
  "metadata": {
    "colab": {
      "provenance": [],
      "authorship_tag": "ABX9TyOKb8fuGCCPXqtoav4F46pD",
      "include_colab_link": true
    },
    "kernelspec": {
      "name": "python3",
      "display_name": "Python 3"
    },
    "language_info": {
      "name": "python"
    }
  },
  "cells": [
    {
      "cell_type": "markdown",
      "metadata": {
        "id": "view-in-github",
        "colab_type": "text"
      },
      "source": [
        "<a href=\"https://colab.research.google.com/github/NicoleAnneDomingo/PLNG211-QC/blob/main/Arrays.ipynb\" target=\"_parent\"><img src=\"https://colab.research.google.com/assets/colab-badge.svg\" alt=\"Open In Colab\"/></a>"
      ]
    },
    {
      "cell_type": "code",
      "execution_count": 6,
      "metadata": {
        "colab": {
          "base_uri": "https://localhost:8080/"
        },
        "id": "4-lJn9oq5bO0",
        "outputId": "4f67b4a0-3ada-4d67-96a2-c8862c252c3d"
      },
      "outputs": [
        {
          "output_type": "stream",
          "name": "stdout",
          "text": [
            "The animals are: ['cat', 'dog', 'fish']\n",
            "The animals in the first list is: cat\n"
          ]
        }
      ],
      "source": [
        "#Accessing the elements in the array\n",
        "animals = [\"cat\",\"dog\",\"fish\"]\n",
        "print(\"The animals are:\", animals)\n",
        "print('The animal in the first list is:',animals[0])"
      ]
    },
    {
      "cell_type": "code",
      "source": [
        "#Modifying the elements in the array\n",
        "animals = [\"cat\",\"dog\",\"fish\"]\n",
        "animals[0] = 'monkey'\n",
        "print(animals)"
      ],
      "metadata": {
        "colab": {
          "base_uri": "https://localhost:8080/"
        },
        "id": "xdFolomu6rku",
        "outputId": "a6f52d0a-4169-4a21-a460-f12eb66c6ea1"
      },
      "execution_count": 7,
      "outputs": [
        {
          "output_type": "stream",
          "name": "stdout",
          "text": [
            "['monkey', 'dog', 'fish']\n"
          ]
        }
      ]
    },
    {
      "cell_type": "code",
      "source": [
        "#Length of the array\n",
        "animals = [\"cat\",\"dog\",\"fish\"]\n",
        "x = len(animals)\n",
        "print(x)"
      ],
      "metadata": {
        "colab": {
          "base_uri": "https://localhost:8080/"
        },
        "id": "N-iQ-nDP7Bmf",
        "outputId": "f0a1aae0-274d-4651-cf28-467a64765623"
      },
      "execution_count": 9,
      "outputs": [
        {
          "output_type": "stream",
          "name": "stdout",
          "text": [
            "3\n"
          ]
        }
      ]
    },
    {
      "cell_type": "code",
      "source": [
        "#Looping Array Elements\n",
        "animals = [\"cat\",\"dog\",\"fish\"]\n",
        "for x in animals:\n",
        "  print(x)"
      ],
      "metadata": {
        "colab": {
          "base_uri": "https://localhost:8080/"
        },
        "id": "6SxxT8097b6j",
        "outputId": "d72ed9ad-04a2-44bc-cd15-a084b943ccc6"
      },
      "execution_count": 10,
      "outputs": [
        {
          "output_type": "stream",
          "name": "stdout",
          "text": [
            "cat\n",
            "dog\n",
            "fish\n"
          ]
        }
      ]
    },
    {
      "cell_type": "code",
      "source": [
        "#Adding elements in the last list of an array\n",
        "animals = [\"cat\",\"dog\",\"fish\"]\n",
        "animals.insert(1,'monkey')\n",
        "print(animals)\n",
        "#Append\n",
        "animals.append('bird')\n",
        "print(animals)"
      ],
      "metadata": {
        "colab": {
          "base_uri": "https://localhost:8080/"
        },
        "id": "aSGkjfyJ7qYD",
        "outputId": "148b4dc9-5748-4168-b374-8c2da685a045"
      },
      "execution_count": 17,
      "outputs": [
        {
          "output_type": "stream",
          "name": "stdout",
          "text": [
            "['cat', 'monkey', 'dog', 'fish']\n",
            "['cat', 'monkey', 'dog', 'fish', 'bird']\n"
          ]
        }
      ]
    },
    {
      "cell_type": "code",
      "source": [
        "#Removing\n",
        "animals.pop(3)\n",
        "print(animals)"
      ],
      "metadata": {
        "colab": {
          "base_uri": "https://localhost:8080/"
        },
        "id": "cYS9cXPr8cxT",
        "outputId": "da519f18-d075-432c-a6fb-f8ee36c95019"
      },
      "execution_count": 18,
      "outputs": [
        {
          "output_type": "stream",
          "name": "stdout",
          "text": [
            "['cat', 'monkey', 'dog', 'bird']\n"
          ]
        }
      ]
    },
    {
      "cell_type": "code",
      "source": [
        "from array import *\n",
        "#Pycharm community/student\n",
        "\n",
        "a = array('i',[1,2,3])\n",
        "print(a)\n",
        "a.typecode"
      ],
      "metadata": {
        "colab": {
          "base_uri": "https://localhost:8080/",
          "height": 53
        },
        "id": "knU9KzzVAzEU",
        "outputId": "efc9a5fb-e748-44b9-81ed-290a57f0ef0d"
      },
      "execution_count": 27,
      "outputs": [
        {
          "output_type": "stream",
          "name": "stdout",
          "text": [
            "array('i', [1, 2, 3])\n"
          ]
        },
        {
          "output_type": "execute_result",
          "data": {
            "text/plain": [
              "'i'"
            ],
            "application/vnd.google.colaboratory.intrinsic+json": {
              "type": "string"
            }
          },
          "metadata": {},
          "execution_count": 27
        }
      ]
    },
    {
      "cell_type": "code",
      "source": [
        "from array import *\n",
        "a = array('i',[1,2,3])\n",
        "a.itemsize"
      ],
      "metadata": {
        "colab": {
          "base_uri": "https://localhost:8080/"
        },
        "id": "K_m8oGYwCaXr",
        "outputId": "e0aea1cd-974d-459c-b538-729d74c91cfb"
      },
      "execution_count": 28,
      "outputs": [
        {
          "output_type": "execute_result",
          "data": {
            "text/plain": [
              "4"
            ]
          },
          "metadata": {},
          "execution_count": 28
        }
      ]
    },
    {
      "cell_type": "code",
      "source": [
        "from array import *\n",
        "a = array('i',[1,2,3])\n",
        "a.append(4)\n",
        "print(a)"
      ],
      "metadata": {
        "colab": {
          "base_uri": "https://localhost:8080/"
        },
        "id": "bEx5ENGqDX1f",
        "outputId": "881a3d16-7375-4572-cd0d-a4038ac23a38"
      },
      "execution_count": 29,
      "outputs": [
        {
          "output_type": "stream",
          "name": "stdout",
          "text": [
            "array('i', [1, 2, 3, 4])\n"
          ]
        }
      ]
    },
    {
      "cell_type": "code",
      "source": [
        "from array import *\n",
        "a = array('i',[1,2,3,3])\n",
        "a.count(3)"
      ],
      "metadata": {
        "colab": {
          "base_uri": "https://localhost:8080/"
        },
        "id": "jLxe_lDJE1_K",
        "outputId": "97d56d15-6bd2-4bcf-d4a7-a074a5ac3ffa"
      },
      "execution_count": 33,
      "outputs": [
        {
          "output_type": "execute_result",
          "data": {
            "text/plain": [
              "2"
            ]
          },
          "metadata": {},
          "execution_count": 33
        }
      ]
    },
    {
      "cell_type": "code",
      "source": [
        "from array import *\n",
        "a = array('i',[1,2,3])\n",
        "a.byteswap()\n",
        "print(a)"
      ],
      "metadata": {
        "colab": {
          "base_uri": "https://localhost:8080/"
        },
        "id": "MijT8xZsDvxa",
        "outputId": "17a01e45-01fa-42d1-e66f-50375b132752"
      },
      "execution_count": 30,
      "outputs": [
        {
          "output_type": "stream",
          "name": "stdout",
          "text": [
            "array('i', [16777216, 33554432, 50331648])\n"
          ]
        }
      ]
    }
  ]
}