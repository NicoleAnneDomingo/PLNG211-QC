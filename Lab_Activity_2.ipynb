{
  "nbformat": 4,
  "nbformat_minor": 0,
  "metadata": {
    "colab": {
      "provenance": [],
      "authorship_tag": "ABX9TyO9h9iwpz8jMeJgFaPhloMH",
      "include_colab_link": true
    },
    "kernelspec": {
      "name": "python3",
      "display_name": "Python 3"
    },
    "language_info": {
      "name": "python"
    }
  },
  "cells": [
    {
      "cell_type": "markdown",
      "metadata": {
        "id": "view-in-github",
        "colab_type": "text"
      },
      "source": [
        "<a href=\"https://colab.research.google.com/github/NicoleAnneDomingo/PLNG211-QC/blob/main/Lab_Activity_2.ipynb\" target=\"_parent\"><img src=\"https://colab.research.google.com/assets/colab-badge.svg\" alt=\"Open In Colab\"/></a>"
      ]
    },
    {
      "cell_type": "code",
      "execution_count": 105,
      "metadata": {
        "colab": {
          "base_uri": "https://localhost:8080/"
        },
        "id": "sH91ACJYRdd5",
        "outputId": "cff78f82-41c2-4127-9659-5933b695b50f"
      },
      "outputs": [
        {
          "output_type": "stream",
          "name": "stdout",
          "text": [
            "Nicole Anne L. Domingo\n",
            "2210005835\n",
            "20\n",
            "Our Lady of Fatima University\n",
            "Bachelor of Science in Computer Science\n"
          ]
        }
      ],
      "source": [
        "#1.\tWrite a Python to display your full name, student number, age, and course\n",
        "fullName = \"Nicole Anne L. Domingo\"\n",
        "studentNumber = 2210005835\n",
        "age = 20\n",
        "school = \"Our Lady of Fatima University\"\n",
        "course = \"Bachelor of Science in Computer Science\"\n",
        "#2.\tCreate a class named Student with attributes: Name, Student_No, Age, School, and Course\n",
        "class Student:\n",
        "  def __init__(self,Name,Student_No, Age, School,Course):\n",
        "    self.Name = fullName\n",
        "    self.Student_No = studentNumber\n",
        "    self.Age = age\n",
        "    self.School = school\n",
        "    self.Course = course\n",
        " #4.\tCreate a method Info() using an instantiation of a class.\n",
        "  def Info(self):\n",
        "    print(self.Name)\n",
        "    print(self.Student_No)\n",
        "    print(self.Age)\n",
        "    print(self.School)\n",
        "    print(self.Course)\n",
        "#3.\tCreate an object name Myself and assign an instance for each attribute.\n",
        "Myself = Student(\"Nicole Anne L. Domingo\",2210005835, 20, \"Our Lady of Fatima University\",\"Bachelor of Science in Computer Science\")\n",
        "Myself.Info()"
      ]
    }
  ]
}