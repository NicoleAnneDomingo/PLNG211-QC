{
  "nbformat": 4,
  "nbformat_minor": 0,
  "metadata": {
    "colab": {
      "provenance": [],
      "authorship_tag": "ABX9TyMqqd4P0alr4p9jP1A+j41A",
      "include_colab_link": true
    },
    "kernelspec": {
      "name": "python3",
      "display_name": "Python 3"
    },
    "language_info": {
      "name": "python"
    }
  },
  "cells": [
    {
      "cell_type": "markdown",
      "metadata": {
        "id": "view-in-github",
        "colab_type": "text"
      },
      "source": [
        "<a href=\"https://colab.research.google.com/github/NicoleAnneDomingo/PLNG211-QC/blob/main/Control_and_Looping_Statement.ipynb\" target=\"_parent\"><img src=\"https://colab.research.google.com/assets/colab-badge.svg\" alt=\"Open In Colab\"/></a>"
      ]
    },
    {
      "cell_type": "code",
      "source": [
        "#Equals:a==b\n",
        "#Not Equals: a!=b\n",
        "#Less than: a<b\n",
        "#Less than or equal to: a<=b\n",
        "#Greater than: a>b\n",
        "#Greater than or equal to: a>=b"
      ],
      "metadata": {
        "id": "bFY0dMcvBfxh"
      },
      "execution_count": null,
      "outputs": []
    },
    {
      "cell_type": "code",
      "source": [
        "#If Statement\n",
        "\n",
        "a= 100\n",
        "b= 12\n",
        "\n",
        "if (a>b):\n",
        "  print(\"a is less than b\")"
      ],
      "metadata": {
        "id": "yUGWjcRkBEHh"
      },
      "execution_count": null,
      "outputs": []
    },
    {
      "cell_type": "code",
      "source": [
        "#Elif Statement\n",
        "if a<b:\n",
        "  print(\"a is less than b\")\n",
        "elif a>b:\n",
        "  print(\"a is greater than b\")"
      ],
      "metadata": {
        "colab": {
          "base_uri": "https://localhost:8080/"
        },
        "id": "3e_lHujOBOLf",
        "outputId": "af24700a-6546-4344-e4bd-ec7a6cbf888b"
      },
      "execution_count": 8,
      "outputs": [
        {
          "output_type": "stream",
          "name": "stdout",
          "text": [
            "a is greater than b\n"
          ]
        }
      ]
    },
    {
      "cell_type": "code",
      "source": [
        "if a<b:\n",
        "  print(\"a is less than b\")\n",
        "elif a>b:\n",
        "  print(\"a is greater than b\")\n",
        "else:\n",
        "  print(\"a is equal to b\")"
      ],
      "metadata": {
        "colab": {
          "base_uri": "https://localhost:8080/"
        },
        "id": "wQJ9Dh0uCWph",
        "outputId": "e8db9ee9-abca-42ca-fef2-da2edac0071b"
      },
      "execution_count": 9,
      "outputs": [
        {
          "output_type": "stream",
          "name": "stdout",
          "text": [
            "a is greater than b\n"
          ]
        }
      ]
    },
    {
      "cell_type": "code",
      "source": [
        "#Short Hand If Statement\n",
        "\n",
        "c=10\n",
        "d=5\n",
        "\n",
        "if c>d: print(\"c>d\")"
      ],
      "metadata": {
        "colab": {
          "base_uri": "https://localhost:8080/"
        },
        "id": "Mm5EQ5lGCjv4",
        "outputId": "f5f7ad9d-dc42-4498-eec5-ff7485f2fce7"
      },
      "execution_count": 11,
      "outputs": [
        {
          "output_type": "stream",
          "name": "stdout",
          "text": [
            "c>d\n"
          ]
        }
      ]
    },
    {
      "cell_type": "code",
      "source": [
        "#Short Hand If...Else Statement\n",
        "print(\"c>d\") if c>d else print(\"d>c\")"
      ],
      "metadata": {
        "colab": {
          "base_uri": "https://localhost:8080/"
        },
        "id": "5dl5RfFECzmo",
        "outputId": "458b5c08-9afc-4cba-ae41-c679a38b101d"
      },
      "execution_count": 12,
      "outputs": [
        {
          "output_type": "stream",
          "name": "stdout",
          "text": [
            "c>d\n"
          ]
        }
      ]
    },
    {
      "cell_type": "code",
      "source": [
        "#And Statement\n",
        "if 5>10 and 8>4:\n",
        "  print(\"Both statements are true\")\n",
        "else:\n",
        "  print(\"One of the statements is false / Both statements are not true\")"
      ],
      "metadata": {
        "colab": {
          "base_uri": "https://localhost:8080/"
        },
        "id": "L4qUSK3XDL_x",
        "outputId": "5b4762c5-3c3d-4cec-c727-68633d2de0da"
      },
      "execution_count": 13,
      "outputs": [
        {
          "output_type": "stream",
          "name": "stdout",
          "text": [
            "One of the statements is false / Both statements are not true\n"
          ]
        }
      ]
    },
    {
      "cell_type": "code",
      "source": [
        "#Or Statement\n",
        "if 5>10 or 4>8:\n",
        "  print(\"True\")\n",
        "else:\n",
        "  print(\"False\")"
      ],
      "metadata": {
        "colab": {
          "base_uri": "https://localhost:8080/"
        },
        "id": "n9UxidiEDfQJ",
        "outputId": "f678c02c-5077-4dde-ec37-3b3af1123987"
      },
      "execution_count": 14,
      "outputs": [
        {
          "output_type": "stream",
          "name": "stdout",
          "text": [
            "False\n"
          ]
        }
      ]
    },
    {
      "cell_type": "code",
      "source": [
        "#Bitwise operator ^ (xor)\n",
        "e=4   #0100 in binary\n",
        "f=2   #0010 in binary\n",
        "\n",
        "e^f"
      ],
      "metadata": {
        "colab": {
          "base_uri": "https://localhost:8080/"
        },
        "id": "2R0Vy5wZDrTQ",
        "outputId": "7c3025ac-713f-4277-fab3-5d8abfec9a6c"
      },
      "execution_count": 15,
      "outputs": [
        {
          "output_type": "execute_result",
          "data": {
            "text/plain": [
              "6"
            ]
          },
          "metadata": {},
          "execution_count": 15
        }
      ]
    },
    {
      "cell_type": "code",
      "execution_count": 7,
      "metadata": {
        "colab": {
          "base_uri": "https://localhost:8080/"
        },
        "id": "mBsT6-E7_uzY",
        "outputId": "b27fb228-ca43-413c-b20c-6c97e9981c19"
      },
      "outputs": [
        {
          "output_type": "stream",
          "name": "stdout",
          "text": [
            "You are not qualified to vote\n"
          ]
        }
      ],
      "source": [
        "#APPLICATION 1:\n",
        "#Write a program that determines if the inout age is qualified to vote or not.\n",
        "#The qualifying age is 18 years old and above\n",
        "\n",
        "age = 17\n",
        "if age>=18:\n",
        "  print(\"You are qualified to vote\")\n",
        "else:\n",
        "  print(\"You are not qualified to vote\")\n"
      ]
    },
    {
      "cell_type": "code",
      "source": [
        "#APPLICATION 2: \n",
        "#Write a program that determines if the input number is POSITIVE, NEGATIVE, or Zero\n",
        "x = input()\n",
        "if int (x) >0:\n",
        "  print(\"POSITIVE\")\n",
        "elif int (x) <0:\n",
        "  print(\"NEGATIVE\")\n",
        "elif int (x) ==0:\n",
        "  print(\"ZERO\")"
      ],
      "metadata": {
        "colab": {
          "base_uri": "https://localhost:8080/"
        },
        "id": "wuY9RkDXAGXB",
        "outputId": "59994034-20d8-4ae4-af3b-147a91630898"
      },
      "execution_count": 41,
      "outputs": [
        {
          "output_type": "stream",
          "name": "stdout",
          "text": [
            "0\n",
            "ZERO\n"
          ]
        }
      ]
    },
    {
      "cell_type": "code",
      "source": [
        "#For loop Statement\n",
        "week = [\"Sunday\",\"Monday\",\"Tuesday\",\"Wednesday\",\"Thursday\",\"Friday\",\"Saturday\"]\n",
        "\n",
        "for y in week:\n",
        "  print(y)"
      ],
      "metadata": {
        "colab": {
          "base_uri": "https://localhost:8080/"
        },
        "id": "GfxQlPgxD7R3",
        "outputId": "0ae30a63-4d06-45e4-a1e0-670b347aff23"
      },
      "execution_count": 16,
      "outputs": [
        {
          "output_type": "stream",
          "name": "stdout",
          "text": [
            "Sunday\n",
            "Monday\n",
            "Tuesday\n",
            "Wednesday\n",
            "Thursday\n",
            "Friday\n",
            "Saturday\n"
          ]
        }
      ]
    },
    {
      "cell_type": "code",
      "source": [
        "week = [\"Sunday\",\"Monday\",\"Tuesday\",\"Wednesday\",\"Thursday\",\"Friday\",\"Saturday\"]\n",
        "\n",
        "for y in week:\n",
        "  print(y)\n",
        "  if y == \"Thursday\":\n",
        "    break"
      ],
      "metadata": {
        "colab": {
          "base_uri": "https://localhost:8080/"
        },
        "id": "QkCPc0ZXETmY",
        "outputId": "eedd44ec-c129-4289-a18c-6e1634b047ad"
      },
      "execution_count": 17,
      "outputs": [
        {
          "output_type": "stream",
          "name": "stdout",
          "text": [
            "Sunday\n",
            "Monday\n",
            "Tuesday\n",
            "Wednesday\n",
            "Thursday\n"
          ]
        }
      ]
    },
    {
      "cell_type": "code",
      "source": [
        "week = [\"Sunday\",\"Monday\",\"Tuesday\",\"Wednesday\",\"Thursday\",\"Friday\",\"Saturday\"]\n",
        "\n",
        "for y in week:\n",
        "  if y == \"Thursday\":\n",
        "    break\n",
        "  print(y)"
      ],
      "metadata": {
        "colab": {
          "base_uri": "https://localhost:8080/"
        },
        "id": "6Kjygpg8En2g",
        "outputId": "b209a7c8-a3b5-4ae7-8589-5da957d47b05"
      },
      "execution_count": 18,
      "outputs": [
        {
          "output_type": "stream",
          "name": "stdout",
          "text": [
            "Sunday\n",
            "Monday\n",
            "Tuesday\n",
            "Wednesday\n"
          ]
        }
      ]
    },
    {
      "cell_type": "code",
      "source": [
        "for x in \"week\":\n",
        "  print(x)"
      ],
      "metadata": {
        "colab": {
          "base_uri": "https://localhost:8080/"
        },
        "id": "EECyI2o4NLsm",
        "outputId": "68046459-bb8d-416d-a34e-dc1b076a7fc5"
      },
      "execution_count": 19,
      "outputs": [
        {
          "output_type": "stream",
          "name": "stdout",
          "text": [
            "w\n",
            "e\n",
            "e\n",
            "k\n"
          ]
        }
      ]
    },
    {
      "cell_type": "code",
      "source": [
        "#range () function\n",
        "for x in range(6):\n",
        "  print(x)"
      ],
      "metadata": {
        "colab": {
          "base_uri": "https://localhost:8080/"
        },
        "id": "UoxqjbqUNhNM",
        "outputId": "79e06bcc-2367-47f9-9987-4b5aed19258d"
      },
      "execution_count": 20,
      "outputs": [
        {
          "output_type": "stream",
          "name": "stdout",
          "text": [
            "0\n",
            "1\n",
            "2\n",
            "3\n",
            "4\n",
            "5\n"
          ]
        }
      ]
    },
    {
      "cell_type": "code",
      "source": [
        "for x in range (2,6+1):\n",
        "  print(x)"
      ],
      "metadata": {
        "colab": {
          "base_uri": "https://localhost:8080/"
        },
        "id": "Gyr2BnUZNpHj",
        "outputId": "056a68a0-cf3c-4557-aea8-034a3ad21fb1"
      },
      "execution_count": 26,
      "outputs": [
        {
          "output_type": "stream",
          "name": "stdout",
          "text": [
            "2\n",
            "3\n",
            "4\n",
            "5\n",
            "6\n"
          ]
        }
      ]
    },
    {
      "cell_type": "code",
      "source": [
        "#Nested Loop\n",
        "adjective = [\"red\",\"big\", \"tasty\"]\n",
        "fruits = [\"apple\",\"banana\",\"cherry\"]\n",
        "for x in adjective:\n",
        "  for y in fruits:\n",
        "    print(x,y)"
      ],
      "metadata": {
        "colab": {
          "base_uri": "https://localhost:8080/"
        },
        "id": "sUC-HaBDOciW",
        "outputId": "f5fb0be5-2fe1-46b9-8e3d-56361557960e"
      },
      "execution_count": 27,
      "outputs": [
        {
          "output_type": "stream",
          "name": "stdout",
          "text": [
            "red apple\n",
            "red banana\n",
            "red cherry\n",
            "big apple\n",
            "big banana\n",
            "big cherry\n",
            "tasty apple\n",
            "tasty banana\n",
            "tasty cherry\n"
          ]
        }
      ]
    },
    {
      "cell_type": "code",
      "source": [
        "#While Loop\n",
        "\n",
        "i =1\n",
        "while i<6:\n",
        "  print(i)\n",
        "  i+=1      #i=i+1"
      ],
      "metadata": {
        "colab": {
          "base_uri": "https://localhost:8080/"
        },
        "id": "YMYP9hydPW-W",
        "outputId": "d74aee8b-26d1-4014-eae6-adbc03bd2334"
      },
      "execution_count": 28,
      "outputs": [
        {
          "output_type": "stream",
          "name": "stdout",
          "text": [
            "1\n",
            "2\n",
            "3\n",
            "4\n",
            "5\n"
          ]
        }
      ]
    },
    {
      "cell_type": "code",
      "source": [
        "i =1\n",
        "while i<=6:\n",
        "  print(i)\n",
        "  if i ==3:\n",
        "    break\n",
        "  i+=1     "
      ],
      "metadata": {
        "colab": {
          "base_uri": "https://localhost:8080/"
        },
        "id": "SWqbzihvPhOn",
        "outputId": "656defbd-3dac-43ea-d561-8c9dca65e4ae"
      },
      "execution_count": 29,
      "outputs": [
        {
          "output_type": "stream",
          "name": "stdout",
          "text": [
            "1\n",
            "2\n",
            "3\n"
          ]
        }
      ]
    },
    {
      "cell_type": "code",
      "source": [
        "#APPLICATION 3\n",
        "#Using while loop and break statement, the output is only 3\n",
        "\n",
        "i= 1\n",
        "while i<=3:\n",
        "  if i==3:\n",
        "    print(i)\n",
        "    break\n",
        "  i+=1"
      ],
      "metadata": {
        "colab": {
          "base_uri": "https://localhost:8080/"
        },
        "id": "zMmp0lJXPty3",
        "outputId": "ec999b5a-d5c8-4d98-f9ee-86239f7ce560"
      },
      "execution_count": 45,
      "outputs": [
        {
          "output_type": "stream",
          "name": "stdout",
          "text": [
            "3\n"
          ]
        }
      ]
    }
  ]
}