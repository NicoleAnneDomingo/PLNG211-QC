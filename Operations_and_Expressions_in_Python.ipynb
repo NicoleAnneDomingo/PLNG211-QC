{
  "nbformat": 4,
  "nbformat_minor": 0,
  "metadata": {
    "colab": {
      "provenance": [],
      "authorship_tag": "ABX9TyOx7c9eTRcQtjl4ffCoEIK9",
      "include_colab_link": true
    },
    "kernelspec": {
      "name": "python3",
      "display_name": "Python 3"
    },
    "language_info": {
      "name": "python"
    }
  },
  "cells": [
    {
      "cell_type": "markdown",
      "metadata": {
        "id": "view-in-github",
        "colab_type": "text"
      },
      "source": [
        "<a href=\"https://colab.research.google.com/github/NicoleAnneDomingo/PLNG211-QC/blob/main/Operations_and_Expressions_in_Python.ipynb\" target=\"_parent\"><img src=\"https://colab.research.google.com/assets/colab-badge.svg\" alt=\"Open In Colab\"/></a>"
      ]
    },
    {
      "cell_type": "markdown",
      "source": [
        "***Boolean Operators***"
      ],
      "metadata": {
        "id": "seFRTyDPzD3V"
      }
    },
    {
      "cell_type": "code",
      "source": [
        "a = 10\n",
        "b = 9\n",
        "print(10>9)\n",
        "print(10<9)\n",
        "print(10==9)\n",
        "print(a!=b)"
      ],
      "metadata": {
        "colab": {
          "base_uri": "https://localhost:8080/"
        },
        "id": "LxaZNjJEzJEc",
        "outputId": "9350217f-894e-4ce9-ec7e-2b108648c57d"
      },
      "execution_count": 19,
      "outputs": [
        {
          "output_type": "stream",
          "name": "stdout",
          "text": [
            "True\n",
            "False\n",
            "False\n",
            "True\n"
          ]
        }
      ]
    },
    {
      "cell_type": "markdown",
      "source": [
        "***Bool() Function***"
      ],
      "metadata": {
        "id": "e57uhCAuzb0_"
      }
    },
    {
      "cell_type": "code",
      "source": [
        "print(bool(15))\n",
        "print(bool(\"Maria\"))\n",
        "\n",
        "print(bool(0))\n",
        "print(bool(None))"
      ],
      "metadata": {
        "colab": {
          "base_uri": "https://localhost:8080/"
        },
        "id": "d1Yde9IrzgBc",
        "outputId": "600d2d9d-091a-4712-e032-7acb7e190b5b"
      },
      "execution_count": 20,
      "outputs": [
        {
          "output_type": "stream",
          "name": "stdout",
          "text": [
            "True\n",
            "True\n",
            "False\n",
            "False\n"
          ]
        }
      ]
    },
    {
      "cell_type": "markdown",
      "source": [
        "***Function that returns a Boolean***"
      ],
      "metadata": {
        "id": "Iw07DXR3zsEu"
      }
    },
    {
      "cell_type": "code",
      "source": [
        "def my_Function():\n",
        "  return True\n",
        "\n",
        "print(my_Function())"
      ],
      "metadata": {
        "colab": {
          "base_uri": "https://localhost:8080/"
        },
        "id": "rG7eeCYOzyYl",
        "outputId": "a509e135-f891-4394-e440-3ce18999a7bb"
      },
      "execution_count": 22,
      "outputs": [
        {
          "output_type": "stream",
          "name": "stdout",
          "text": [
            "True\n"
          ]
        }
      ]
    },
    {
      "cell_type": "code",
      "source": [
        "def my_Function():\n",
        "  return True\n",
        "\n",
        "if(my_Function()):\n",
        "   print(\"Yes!\")\n",
        "else:\n",
        "   print(\"No!\")"
      ],
      "metadata": {
        "colab": {
          "base_uri": "https://localhost:8080/"
        },
        "id": "1COuKjQj0Wc0",
        "outputId": "9fe8bde3-0305-4fb6-f973-61a0e3e753d3"
      },
      "execution_count": 24,
      "outputs": [
        {
          "output_type": "stream",
          "name": "stdout",
          "text": [
            "Yes!\n"
          ]
        }
      ]
    },
    {
      "cell_type": "markdown",
      "source": [
        "***Application 1***"
      ],
      "metadata": {
        "id": "iVfCscdK0GqM"
      }
    },
    {
      "cell_type": "code",
      "source": [
        "c = 6\n",
        "d = 7\n",
        "print(c==d)\n",
        "print(c!=c)"
      ],
      "metadata": {
        "colab": {
          "base_uri": "https://localhost:8080/"
        },
        "id": "3l4kImpI0IlP",
        "outputId": "6091d47d-7981-4a88-9e25-73e2864008c2"
      },
      "execution_count": 25,
      "outputs": [
        {
          "output_type": "stream",
          "name": "stdout",
          "text": [
            "False\n",
            "False\n"
          ]
        }
      ]
    },
    {
      "cell_type": "markdown",
      "source": [
        "***Python Operators***"
      ],
      "metadata": {
        "id": "mG2U46u11K5N"
      }
    },
    {
      "cell_type": "code",
      "source": [
        "print(10+9)  #Addition\n",
        "print(10-9)  #Subtraction\n",
        "print(10*9)  #Multiplication\n",
        "print(10/5)  #Division\n",
        "print(10//3) #Floor Division\n",
        "print(10%3)  #Modulo/Remainder\n",
        "print(10**2) #Exponential"
      ],
      "metadata": {
        "colab": {
          "base_uri": "https://localhost:8080/"
        },
        "id": "mMmcjEE-1NSc",
        "outputId": "e6b57c78-4a4f-405c-c43a-61ffbfb7c267"
      },
      "execution_count": 26,
      "outputs": [
        {
          "output_type": "stream",
          "name": "stdout",
          "text": [
            "19\n",
            "1\n",
            "90\n",
            "2.0\n",
            "3\n",
            "1\n",
            "100\n"
          ]
        }
      ]
    },
    {
      "cell_type": "markdown",
      "source": [
        "***Bitwise Operators***"
      ],
      "metadata": {
        "id": "KDDuyvew1vcU"
      }
    },
    {
      "cell_type": "code",
      "source": [
        "e = 60\n",
        "f = 13\n",
        "e & f"
      ],
      "metadata": {
        "colab": {
          "base_uri": "https://localhost:8080/"
        },
        "id": "ExMz1R-11xo7",
        "outputId": "0c29311c-7d18-4d56-a622-bcf69e201122"
      },
      "execution_count": 18,
      "outputs": [
        {
          "output_type": "execute_result",
          "data": {
            "text/plain": [
              "12"
            ]
          },
          "metadata": {},
          "execution_count": 18
        }
      ]
    },
    {
      "cell_type": "markdown",
      "source": [
        "***Python Assignment Operator***"
      ],
      "metadata": {
        "id": "eXNv0bCz3tCH"
      }
    },
    {
      "cell_type": "code",
      "source": [
        "x = 4\n",
        "x+=3\n",
        "print(\"x = \", x)"
      ],
      "metadata": {
        "colab": {
          "base_uri": "https://localhost:8080/"
        },
        "id": "nkJ3g1OQ3vXt",
        "outputId": "ded4fe4c-5c24-447c-b4fe-92ea382b34be"
      },
      "execution_count": 27,
      "outputs": [
        {
          "output_type": "stream",
          "name": "stdout",
          "text": [
            "x =  7\n"
          ]
        }
      ]
    },
    {
      "cell_type": "markdown",
      "source": [
        "***Logical Operator***"
      ],
      "metadata": {
        "id": "_gqiX46S33KC"
      }
    },
    {
      "cell_type": "code",
      "source": [
        "print((4>3)and (5!=5))   #and\n",
        "print((6==6) or (6!=6))  #or"
      ],
      "metadata": {
        "colab": {
          "base_uri": "https://localhost:8080/"
        },
        "id": "yfjzrF2m35GF",
        "outputId": "05d58393-9e75-451e-d7a6-3d4a8d75c180"
      },
      "execution_count": 28,
      "outputs": [
        {
          "output_type": "stream",
          "name": "stdout",
          "text": [
            "False\n",
            "True\n"
          ]
        }
      ]
    },
    {
      "cell_type": "markdown",
      "source": [
        "***Identify Operators***"
      ],
      "metadata": {
        "id": "8lxOxMXU4Mgr"
      }
    },
    {
      "cell_type": "code",
      "source": [
        "print (4 is 4)\n",
        "print (7 is not 7)"
      ],
      "metadata": {
        "colab": {
          "base_uri": "https://localhost:8080/"
        },
        "id": "n0JieDuw4Pv7",
        "outputId": "96d5955b-1272-4a6a-d95e-fed6ef19343e"
      },
      "execution_count": 29,
      "outputs": [
        {
          "output_type": "stream",
          "name": "stdout",
          "text": [
            "True\n",
            "False\n"
          ]
        }
      ]
    }
  ]
}