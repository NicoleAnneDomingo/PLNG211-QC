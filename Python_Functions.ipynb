{
  "nbformat": 4,
  "nbformat_minor": 0,
  "metadata": {
    "colab": {
      "provenance": [],
      "authorship_tag": "ABX9TyOwKFtY/uSyDR+YMGiq7eqC",
      "include_colab_link": true
    },
    "kernelspec": {
      "name": "python3",
      "display_name": "Python 3"
    },
    "language_info": {
      "name": "python"
    }
  },
  "cells": [
    {
      "cell_type": "markdown",
      "metadata": {
        "id": "view-in-github",
        "colab_type": "text"
      },
      "source": [
        "<a href=\"https://colab.research.google.com/github/NicoleAnneDomingo/PLNG211-QC/blob/main/Python_Functions.ipynb\" target=\"_parent\"><img src=\"https://colab.research.google.com/assets/colab-badge.svg\" alt=\"Open In Colab\"/></a>"
      ]
    },
    {
      "cell_type": "code",
      "execution_count": 21,
      "metadata": {
        "colab": {
          "base_uri": "https://localhost:8080/"
        },
        "id": "XxGY2ClmMzKh",
        "outputId": "365d097c-da8b-41d9-e92a-8dae6c85d56c"
      },
      "outputs": [
        {
          "output_type": "stream",
          "name": "stdout",
          "text": [
            "100\n",
            "Celcius 37.78\n",
            "Kelvin 310.93\n"
          ]
        }
      ],
      "source": [
        "#Writing your own function/conversion\n",
        "def convert_to_celsius(fahrenheit):\n",
        "  return (fahrenheit-32) * 5/9\n",
        "\n",
        "def convert_to_kelvin(fahrenheit):\n",
        "  return ((fahrenheit-32)*5/9) + 273.15\n",
        "\n",
        "fahrenheit = int(input())\n",
        "\n",
        "print (\"Celcius\",round(convert_to_celsius(fahrenheit),2))\n",
        "print (\"Kelvin\",round(convert_to_kelvin(fahrenheit),2))"
      ]
    },
    {
      "cell_type": "code",
      "source": [
        "def Name():\n",
        "  pass"
      ],
      "metadata": {
        "id": "VX40S-lvXLtN"
      },
      "execution_count": 22,
      "outputs": []
    },
    {
      "cell_type": "code",
      "source": [
        "def my_function(fname):\n",
        "  return(fname + \" Sayo\")\n",
        "print(my_function(\"Mam\"))\n",
        "print(my_function(\"Maria\"))\n",
        "print(my_function(\"Rizette\"))"
      ],
      "metadata": {
        "colab": {
          "base_uri": "https://localhost:8080/"
        },
        "id": "y0I8ONpPNodM",
        "outputId": "1faf5e85-2b6c-4a7a-ae9d-ca5a6292de71"
      },
      "execution_count": 17,
      "outputs": [
        {
          "output_type": "stream",
          "name": "stdout",
          "text": [
            "Mam Sayo\n",
            "Maria Sayo\n",
            "Rizette Sayo\n"
          ]
        }
      ]
    },
    {
      "cell_type": "code",
      "source": [
        "#Returns a value\n",
        "def myFunction(x):\n",
        "  return(5+x)\n",
        "print(myFunction(4))\n",
        "print(myFunction(5))\n",
        "print(myFunction(6))"
      ],
      "metadata": {
        "colab": {
          "base_uri": "https://localhost:8080/"
        },
        "id": "dj54Jl7HSUCU",
        "outputId": "787be041-9e7f-48b1-fc58-ed4454cf82c2"
      },
      "execution_count": 20,
      "outputs": [
        {
          "output_type": "stream",
          "name": "stdout",
          "text": [
            "9\n",
            "10\n",
            "11\n"
          ]
        }
      ]
    },
    {
      "cell_type": "code",
      "source": [
        "#Exercise 1.1\n",
        "min(2,3,4)"
      ],
      "metadata": {
        "colab": {
          "base_uri": "https://localhost:8080/"
        },
        "id": "_Gl9q5GmXUok",
        "outputId": "266b46d2-e0f1-4ada-8c09-69f3a350da7c"
      },
      "execution_count": 36,
      "outputs": [
        {
          "output_type": "execute_result",
          "data": {
            "text/plain": [
              "7"
            ]
          },
          "metadata": {},
          "execution_count": 36
        }
      ]
    },
    {
      "cell_type": "code",
      "source": [
        "#Exercise 1.2\n",
        "max(2,-3,4,7,-5)"
      ],
      "metadata": {
        "colab": {
          "base_uri": "https://localhost:8080/"
        },
        "id": "V45S6s0gXk3E",
        "outputId": "ced04a99-56ab-48ec-bf61-3441ab7308d8"
      },
      "execution_count": 25,
      "outputs": [
        {
          "output_type": "execute_result",
          "data": {
            "text/plain": [
              "7"
            ]
          },
          "metadata": {},
          "execution_count": 25
        }
      ]
    },
    {
      "cell_type": "code",
      "source": [
        "#Exercise 1.3\n",
        "max(2,-3, min(4,7),-5)"
      ],
      "metadata": {
        "colab": {
          "base_uri": "https://localhost:8080/"
        },
        "id": "dkj9VHrvXnDN",
        "outputId": "4a653f60-9e0d-45c5-e1d8-25c4eebdc3ad"
      },
      "execution_count": 26,
      "outputs": [
        {
          "output_type": "execute_result",
          "data": {
            "text/plain": [
              "4"
            ]
          },
          "metadata": {},
          "execution_count": 26
        }
      ]
    },
    {
      "cell_type": "code",
      "source": [
        "#Exercise 2\n",
        "def sum(num1,num2,num3):\n",
        "  return num1+num2+num3\n",
        "\n",
        "def average(num1,num2,num3):\n",
        "  return (num1+num2+num3)/3\n",
        "\n",
        "def square(num1,num2,num3):\n",
        "  return (pow(num1,2)) + (pow(num2,2)) + (pow(num3,2))\n",
        "\n",
        "print(\"First number\") \n",
        "num1 = int(input())\n",
        "print(\"Second number\") \n",
        "num2 = int(input())\n",
        "print(\"Third number\")\n",
        "num3 = int(input())\n",
        "\n",
        "print(\"Sum =\", sum(num1,num2,num3))\n",
        "print(\"Average =\", average(num1,num2,num3))\n",
        "print(\"Sum of Squares =\", square(num1,num2,num3))"
      ],
      "metadata": {
        "colab": {
          "base_uri": "https://localhost:8080/"
        },
        "id": "SVXPhj49Xw1n",
        "outputId": "dbb2c457-9b41-4fc0-b010-d9530d1e5e4c"
      },
      "execution_count": 35,
      "outputs": [
        {
          "output_type": "stream",
          "name": "stdout",
          "text": [
            "First number\n",
            "2\n",
            "Second number\n",
            "3\n",
            "Third number\n",
            "4\n",
            "Sum = 9\n",
            "Average = 3.0\n",
            "Sum of Squares = 29\n"
          ]
        }
      ]
    }
  ]
}